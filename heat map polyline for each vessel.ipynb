{
 "cells": [
  {
   "cell_type": "markdown",
   "metadata": {},
   "source": [
    "# Interactive heat map for the heat map trajectory of each vessel"
   ]
  },
  {
   "cell_type": "code",
   "execution_count": null,
   "metadata": {},
   "outputs": [],
   "source": [
    "from mpl_toolkits.mplot3d import Axes3D\n",
    "import matplotlib as mpl\n",
    "import numpy as np\n",
    "import pandas as pd\n",
    "import matplotlib.pyplot as plt\n",
    "import folium \n",
    "from folium import plugins\n",
    "from folium.plugins import HeatMap\n",
    "from collections import Counter\n",
    "from datetime import datetime as dt"
   ]
  },
  {
   "cell_type": "code",
   "execution_count": null,
   "metadata": {},
   "outputs": [],
   "source": [
    "#load the original csv \n",
    "df_acc = pd.read_csv(\"nari_dynamic.csv\",delimiter=',')"
   ]
  },
  {
   "cell_type": "code",
   "execution_count": null,
   "metadata": {},
   "outputs": [],
   "source": [
    "map_hooray = folium.Map(location=[48, -4.4],\n",
    "                    zoom_start = 8) "
   ]
  },
  {
   "cell_type": "code",
   "execution_count": null,
   "metadata": {},
   "outputs": [],
   "source": [
    "df_acc.head()"
   ]
  },
  {
   "cell_type": "code",
   "execution_count": null,
   "metadata": {},
   "outputs": [],
   "source": [
    "df_acc['Latitude'] = df_acc['lat'].astype(float)\n",
    "df_acc['Longitude'] = df_acc['lon'].astype(float)\n",
    "\n",
    "heat_df = df_acc[['Latitude', 'Longitude']]\n",
    "heat_df.head()"
   ]
  },
  {
   "cell_type": "code",
   "execution_count": null,
   "metadata": {
    "scrolled": true
   },
   "outputs": [],
   "source": [
    "#total points per vessel\n",
    "total_trips=df_acc.copy()\n",
    "total_trips=total_trips['id'].value_counts()\n",
    "total_trips=pd.DataFrame(total_trips)\n",
    "total_trips.columns = ['total_points']\n",
    "total_trips['id'] = total_trips.index\n",
    "total_trips=total_trips[['id','total_points']]\n",
    "total_trips"
   ]
  },
  {
   "cell_type": "code",
   "execution_count": null,
   "metadata": {},
   "outputs": [],
   "source": [
    "#list of lists for the heat data for each vessel\n",
    "heat_data = [[[row['Latitude'],row['Longitude']] for index, row in df_acc[df_acc['id'] == i].iterrows()] for i in total_trips['id']]\n"
   ]
  },
  {
   "cell_type": "code",
   "execution_count": null,
   "metadata": {},
   "outputs": [],
   "source": [
    "#cration of the heat map for each vessel\n",
    "hm = plugins.HeatMapWithTime(heat_data,auto_play=True,max_opacity=0.8)\n",
    "print('0')\n",
    "hm.add_to(map_hooray)\n",
    "print('1')\n",
    "map_hooray.save(\"my_time_h_map_polylines.html\")\n",
    "print('2')"
   ]
  },
  {
   "cell_type": "code",
   "execution_count": null,
   "metadata": {},
   "outputs": [],
   "source": []
  }
 ],
 "metadata": {
  "kernelspec": {
   "display_name": "Python 3",
   "language": "python",
   "name": "python3"
  },
  "language_info": {
   "codemirror_mode": {
    "name": "ipython",
    "version": 3
   },
   "file_extension": ".py",
   "mimetype": "text/x-python",
   "name": "python",
   "nbconvert_exporter": "python",
   "pygments_lexer": "ipython3",
   "version": "3.7.1"
  }
 },
 "nbformat": 4,
 "nbformat_minor": 2
}
